{
 "cells": [
  {
   "cell_type": "code",
   "execution_count": 2,
   "id": "0b749548-e9f3-44c0-b223-86b1a387af6b",
   "metadata": {},
   "outputs": [],
   "source": [
    "# 1.Ans\n",
    "class Solution:\n",
    "    def StringMatch(self, S: str) -> list[int]:\n",
    "        mini=0\n",
    "        maxi=len(S)\n",
    "        l=[]\n",
    "        \n",
    "        for i in S:\n",
    "            if i==\"I\":\n",
    "                l.append(mini)\n",
    "                mini+=1\n",
    "            else:\n",
    "                l.append(maxi)\n",
    "                maxi-=1\n",
    "        return l+[maxi]"
   ]
  },
  {
   "cell_type": "code",
   "execution_count": 4,
   "id": "7d914333-ba87-4c35-8e73-324a5e7fedd0",
   "metadata": {},
   "outputs": [],
   "source": [
    "# 2.Ans\n",
    "def search(mat, n, x):\n",
    "    if(n == 0):\n",
    "        return -1\n",
    "    for i in range(n):\n",
    "        for j in range(n):\n",
    "\n",
    "            if(mat[i][j] == x):\n",
    "                print(\"Element found at index\", i, \",\", j)\n",
    "                return 1\n",
    " \n",
    "    print(\" Element not found\")\n",
    "    return 0\n"
   ]
  },
  {
   "cell_type": "code",
   "execution_count": 6,
   "id": "cbe4334b-ce7b-45a0-a94c-c894816d98a2",
   "metadata": {},
   "outputs": [],
   "source": [
    "# 3.Ans\n",
    "def isMountainArray(arr):\n",
    " \n",
    "    if (len(arr) < 3):\n",
    "        return False\n",
    "    flag = 0\n",
    "    i = 0\n",
    "    for i in range(1, len(arr)):\n",
    "        if (arr[i] <= arr[i - 1]):\n",
    "            break\n",
    " \n",
    "    if (i == len(arr) or i == 1):\n",
    "        return False\n",
    " \n",
    "    while i < len(arr):\n",
    "        if (arr[i] >= arr[i - 1]):\n",
    "            break\n",
    "        i += 1\n",
    "    return i == len(arr)\n",
    "\n"
   ]
  },
  {
   "cell_type": "code",
   "execution_count": 10,
   "id": "299d0843-8311-4c59-89fd-f50189341d09",
   "metadata": {},
   "outputs": [],
   "source": [
    "# 4.Ans\n",
    "def findSubArray(arr, n):\n",
    " \n",
    "    sum = 0\n",
    "    maxsize = -1\n",
    " \n",
    "    for i in range(0, n-1):\n",
    "     \n",
    "        sum = -1 if(arr[i] == 0) else 1\n",
    " \n",
    "        for j in range(i + 1, n):\n",
    "         \n",
    "            sum = sum + (-1) if (arr[j] == 0) else sum + 1\n",
    " \n",
    "            if (sum == 0 and maxsize < j-i + 1):\n",
    "                 \n",
    "                maxsize = j - i + 1\n",
    "                startindex = i\n",
    "    if (maxsize == -1):\n",
    "        print(\"subarray size is 0\");\n",
    "    else:\n",
    "        print(startindex, \"to\", startindex + maxsize-1);\n",
    " \n",
    "    return maxsize\n",
    "\n"
   ]
  },
  {
   "cell_type": "code",
   "execution_count": 11,
   "id": "df91ce00-4568-4c09-943f-9f89353b6afc",
   "metadata": {},
   "outputs": [
    {
     "name": "stdout",
     "output_type": "stream",
     "text": [
      "52\n"
     ]
    }
   ],
   "source": [
    "# 5.Ans\n",
    "def minValue(A, B, n):\n",
    " \n",
    "    A.sort()\n",
    "    B.sort()\n",
    "    result = 0\n",
    "    for i in range(n):\n",
    "        result += (A[i] * B[n - i - 1])\n",
    " \n",
    "    return result\n",
    " \n",
    " \n",
    "\n",
    "A = [2,4,5]\n",
    "B = [4,5,6]\n",
    "n = len(A)\n",
    "print (minValue(A, B, n))\n"
   ]
  },
  {
   "cell_type": "code",
   "execution_count": 12,
   "id": "bddeb4cd-4e1e-44db-b5d3-7562f80f4ed8",
   "metadata": {},
   "outputs": [],
   "source": [
    "# 6.Ans\n",
    "# This given problem i had done earlier in Cpp so i am submitting the same\n",
    "# class Solution {\n",
    "#  public:\n",
    "#   vector<int> findOriginalArray(vector<int>& changed) {\n",
    "#     vector<int> ans;\n",
    "#     queue<int> q;\n",
    "\n",
    "#     sort(changed.begin(), changed.end());\n",
    "\n",
    "#     for (const int num : changed)\n",
    "#       if (!q.empty() && num == q.front()) {\n",
    "#         q.pop();\n",
    "#       } else {\n",
    "#         q.push(num * 2);\n",
    "#         ans.push_back(num);\n",
    "#       }\n",
    "\n",
    "#     return q.empty() ? ans : vector<int>();\n",
    "#   }\n",
    "# };"
   ]
  },
  {
   "cell_type": "code",
   "execution_count": 15,
   "id": "e67c58e1-f1e4-4c83-b58f-5696df1c81d6",
   "metadata": {},
   "outputs": [],
   "source": [
    "# 7.Ans\n",
    "def spiralOrder(matrix):\n",
    "    ans = []\n",
    " \n",
    "    if (len(matrix) == 0):\n",
    "        return ans\n",
    " \n",
    "    m = len(matrix)\n",
    "    n = len(matrix[0])\n",
    "    seen = [[0 for i in range(n)] for j in range(m)]\n",
    "    dr = [0, 1, 0, -1]\n",
    "    dc = [1, 0, -1, 0]\n",
    "    x = 0\n",
    "    y = 0\n",
    "    di = 0\n",
    " \n",
    "    # Iterate from 0 to R * C - 1\n",
    "    for i in range(m * n):\n",
    "        ans.append(matrix[x][y])\n",
    "        seen[x][y] = True\n",
    "        cr = x + dr[di]\n",
    "        cc = y + dc[di]\n",
    " \n",
    "        if (0 <= cr and cr < m and 0 <= cc and cc < n and not(seen[cr][cc])):\n",
    "            x = cr\n",
    "            y = cc\n",
    "        else:\n",
    "            di = (di + 1) % 4\n",
    "            x += dr[di]\n",
    "            y += dc[di]\n",
    "        return ans"
   ]
  },
  {
   "cell_type": "code",
   "execution_count": null,
   "id": "30d94ae4-4dc9-48d8-a164-61dda710b5c9",
   "metadata": {},
   "outputs": [],
   "source": [
    "# 8.Ans\n",
    "\n"
   ]
  }
 ],
 "metadata": {
  "kernelspec": {
   "display_name": "Python 3 (ipykernel)",
   "language": "python",
   "name": "python3"
  },
  "language_info": {
   "codemirror_mode": {
    "name": "ipython",
    "version": 3
   },
   "file_extension": ".py",
   "mimetype": "text/x-python",
   "name": "python",
   "nbconvert_exporter": "python",
   "pygments_lexer": "ipython3",
   "version": "3.10.8"
  }
 },
 "nbformat": 4,
 "nbformat_minor": 5
}
