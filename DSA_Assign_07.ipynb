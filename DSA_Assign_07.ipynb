{
 "cells": [
  {
   "cell_type": "code",
   "execution_count": null,
   "id": "7f9c1a02-1c4e-469b-b7f3-c18136b67c3b",
   "metadata": {},
   "outputs": [],
   "source": [
    "# 1.Ans\n",
    "class Solution(object):\n",
    "    def isIsomorphic(self, s, t):\n",
    "        \"\"\"\n",
    "        :type s: str\n",
    "        :type t: str\n",
    "        :rtype: bool\n",
    "        \"\"\"\n",
    "        map1=[]\n",
    "        map2=[]\n",
    "        for i in s:\n",
    "            map1.append(s.index(i))\n",
    "        for i in t:\n",
    "            map2.append(t.index(i))\n",
    "        if map1==map2:\n",
    "            return True\n",
    "        return False"
   ]
  },
  {
   "cell_type": "code",
   "execution_count": 9,
   "id": "515968f6-fc9f-4c66-b22e-a8bae5a1ba59",
   "metadata": {},
   "outputs": [
    {
     "ename": "RecursionError",
     "evalue": "maximum recursion depth exceeded in comparison",
     "output_type": "error",
     "traceback": [
      "\u001b[0;31m---------------------------------------------------------------------------\u001b[0m",
      "\u001b[0;31mRecursionError\u001b[0m                            Traceback (most recent call last)",
      "Cell \u001b[0;32mIn[9], line 27\u001b[0m\n\u001b[1;32m     25\u001b[0m         \u001b[38;5;28;01melse\u001b[39;00m:\n\u001b[1;32m     26\u001b[0m             \u001b[38;5;28;01mreturn\u001b[39;00m \u001b[38;5;28;01mFalse\u001b[39;00m\n\u001b[0;32m---> 27\u001b[0m \u001b[38;5;28mprint\u001b[39m(\u001b[43mstrobogrammatic_num\u001b[49m\u001b[43m(\u001b[49m\u001b[38;5;241;43m88\u001b[39;49m\u001b[43m,\u001b[49m\u001b[38;5;241;43m2\u001b[39;49m\u001b[43m)\u001b[49m)\n",
      "Cell \u001b[0;32mIn[9], line 4\u001b[0m, in \u001b[0;36mstrobogrammatic_num\u001b[0;34m(nums, n)\u001b[0m\n\u001b[1;32m      2\u001b[0m \u001b[38;5;28;01mdef\u001b[39;00m \u001b[38;5;21mstrobogrammatic_num\u001b[39m(nums,n):\n\u001b[0;32m----> 4\u001b[0m     result \u001b[38;5;241m=\u001b[39m \u001b[43mnumdef\u001b[49m\u001b[43m(\u001b[49m\u001b[43mnums\u001b[49m\u001b[43m,\u001b[49m\u001b[43mn\u001b[49m\u001b[43m,\u001b[49m\u001b[43m \u001b[49m\u001b[43mn\u001b[49m\u001b[43m)\u001b[49m\n\u001b[1;32m      5\u001b[0m     \u001b[38;5;28;01mreturn\u001b[39;00m result\n",
      "Cell \u001b[0;32mIn[9], line 13\u001b[0m, in \u001b[0;36mnumdef\u001b[0;34m(nums, n, length)\u001b[0m\n\u001b[1;32m     10\u001b[0m \u001b[38;5;28;01mif\u001b[39;00m n \u001b[38;5;241m==\u001b[39m \u001b[38;5;241m0\u001b[39m: result\u001b[38;5;241m.\u001b[39mappend(\u001b[38;5;124m\"\u001b[39m\u001b[38;5;124m\"\u001b[39m)\n\u001b[1;32m     11\u001b[0m \u001b[38;5;28;01mif\u001b[39;00m n \u001b[38;5;241m==\u001b[39m \u001b[38;5;241m1\u001b[39m: result\u001b[38;5;241m.\u001b[39mappend(\u001b[38;5;124m\"\u001b[39m\u001b[38;5;124m1\u001b[39m\u001b[38;5;124m\"\u001b[39m, \u001b[38;5;124m\"\u001b[39m\u001b[38;5;124m0\u001b[39m\u001b[38;5;124m\"\u001b[39m, \u001b[38;5;124m\"\u001b[39m\u001b[38;5;124m8\u001b[39m\u001b[38;5;124m\"\u001b[39m)\n\u001b[0;32m---> 13\u001b[0m middles \u001b[38;5;241m=\u001b[39m \u001b[43mnumdef\u001b[49m\u001b[43m(\u001b[49m\u001b[43mnums\u001b[49m\u001b[43m,\u001b[49m\u001b[43mn\u001b[49m\u001b[43m \u001b[49m\u001b[38;5;241;43m-\u001b[39;49m\u001b[43m \u001b[49m\u001b[38;5;241;43m2\u001b[39;49m\u001b[43m,\u001b[49m\u001b[43m \u001b[49m\u001b[43mlength\u001b[49m\u001b[43m)\u001b[49m\n\u001b[1;32m     15\u001b[0m \u001b[38;5;28;01mfor\u001b[39;00m middle \u001b[38;5;129;01min\u001b[39;00m middles:\n\u001b[1;32m     16\u001b[0m     \u001b[38;5;28;01mif\u001b[39;00m n \u001b[38;5;241m!=\u001b[39m length:           \n",
      "Cell \u001b[0;32mIn[9], line 13\u001b[0m, in \u001b[0;36mnumdef\u001b[0;34m(nums, n, length)\u001b[0m\n\u001b[1;32m     10\u001b[0m \u001b[38;5;28;01mif\u001b[39;00m n \u001b[38;5;241m==\u001b[39m \u001b[38;5;241m0\u001b[39m: result\u001b[38;5;241m.\u001b[39mappend(\u001b[38;5;124m\"\u001b[39m\u001b[38;5;124m\"\u001b[39m)\n\u001b[1;32m     11\u001b[0m \u001b[38;5;28;01mif\u001b[39;00m n \u001b[38;5;241m==\u001b[39m \u001b[38;5;241m1\u001b[39m: result\u001b[38;5;241m.\u001b[39mappend(\u001b[38;5;124m\"\u001b[39m\u001b[38;5;124m1\u001b[39m\u001b[38;5;124m\"\u001b[39m, \u001b[38;5;124m\"\u001b[39m\u001b[38;5;124m0\u001b[39m\u001b[38;5;124m\"\u001b[39m, \u001b[38;5;124m\"\u001b[39m\u001b[38;5;124m8\u001b[39m\u001b[38;5;124m\"\u001b[39m)\n\u001b[0;32m---> 13\u001b[0m middles \u001b[38;5;241m=\u001b[39m \u001b[43mnumdef\u001b[49m\u001b[43m(\u001b[49m\u001b[43mnums\u001b[49m\u001b[43m,\u001b[49m\u001b[43mn\u001b[49m\u001b[43m \u001b[49m\u001b[38;5;241;43m-\u001b[39;49m\u001b[43m \u001b[49m\u001b[38;5;241;43m2\u001b[39;49m\u001b[43m,\u001b[49m\u001b[43m \u001b[49m\u001b[43mlength\u001b[49m\u001b[43m)\u001b[49m\n\u001b[1;32m     15\u001b[0m \u001b[38;5;28;01mfor\u001b[39;00m middle \u001b[38;5;129;01min\u001b[39;00m middles:\n\u001b[1;32m     16\u001b[0m     \u001b[38;5;28;01mif\u001b[39;00m n \u001b[38;5;241m!=\u001b[39m length:           \n",
      "    \u001b[0;31m[... skipping similar frames: numdef at line 13 (2968 times)]\u001b[0m\n",
      "Cell \u001b[0;32mIn[9], line 13\u001b[0m, in \u001b[0;36mnumdef\u001b[0;34m(nums, n, length)\u001b[0m\n\u001b[1;32m     10\u001b[0m \u001b[38;5;28;01mif\u001b[39;00m n \u001b[38;5;241m==\u001b[39m \u001b[38;5;241m0\u001b[39m: result\u001b[38;5;241m.\u001b[39mappend(\u001b[38;5;124m\"\u001b[39m\u001b[38;5;124m\"\u001b[39m)\n\u001b[1;32m     11\u001b[0m \u001b[38;5;28;01mif\u001b[39;00m n \u001b[38;5;241m==\u001b[39m \u001b[38;5;241m1\u001b[39m: result\u001b[38;5;241m.\u001b[39mappend(\u001b[38;5;124m\"\u001b[39m\u001b[38;5;124m1\u001b[39m\u001b[38;5;124m\"\u001b[39m, \u001b[38;5;124m\"\u001b[39m\u001b[38;5;124m0\u001b[39m\u001b[38;5;124m\"\u001b[39m, \u001b[38;5;124m\"\u001b[39m\u001b[38;5;124m8\u001b[39m\u001b[38;5;124m\"\u001b[39m)\n\u001b[0;32m---> 13\u001b[0m middles \u001b[38;5;241m=\u001b[39m \u001b[43mnumdef\u001b[49m\u001b[43m(\u001b[49m\u001b[43mnums\u001b[49m\u001b[43m,\u001b[49m\u001b[43mn\u001b[49m\u001b[43m \u001b[49m\u001b[38;5;241;43m-\u001b[39;49m\u001b[43m \u001b[49m\u001b[38;5;241;43m2\u001b[39;49m\u001b[43m,\u001b[49m\u001b[43m \u001b[49m\u001b[43mlength\u001b[49m\u001b[43m)\u001b[49m\n\u001b[1;32m     15\u001b[0m \u001b[38;5;28;01mfor\u001b[39;00m middle \u001b[38;5;129;01min\u001b[39;00m middles:\n\u001b[1;32m     16\u001b[0m     \u001b[38;5;28;01mif\u001b[39;00m n \u001b[38;5;241m!=\u001b[39m length:           \n",
      "Cell \u001b[0;32mIn[9], line 10\u001b[0m, in \u001b[0;36mnumdef\u001b[0;34m(nums, n, length)\u001b[0m\n\u001b[1;32m      6\u001b[0m \u001b[38;5;28;01mdef\u001b[39;00m \u001b[38;5;21mnumdef\u001b[39m(nums,n, length):\n\u001b[1;32m      7\u001b[0m     result \u001b[38;5;241m=\u001b[39m []\n\u001b[0;32m---> 10\u001b[0m     \u001b[38;5;28;01mif\u001b[39;00m \u001b[43mn\u001b[49m\u001b[43m \u001b[49m\u001b[38;5;241;43m==\u001b[39;49m\u001b[43m \u001b[49m\u001b[38;5;241;43m0\u001b[39;49m: result\u001b[38;5;241m.\u001b[39mappend(\u001b[38;5;124m\"\u001b[39m\u001b[38;5;124m\"\u001b[39m)\n\u001b[1;32m     11\u001b[0m     \u001b[38;5;28;01mif\u001b[39;00m n \u001b[38;5;241m==\u001b[39m \u001b[38;5;241m1\u001b[39m: result\u001b[38;5;241m.\u001b[39mappend(\u001b[38;5;124m\"\u001b[39m\u001b[38;5;124m1\u001b[39m\u001b[38;5;124m\"\u001b[39m, \u001b[38;5;124m\"\u001b[39m\u001b[38;5;124m0\u001b[39m\u001b[38;5;124m\"\u001b[39m, \u001b[38;5;124m\"\u001b[39m\u001b[38;5;124m8\u001b[39m\u001b[38;5;124m\"\u001b[39m)\n\u001b[1;32m     13\u001b[0m     middles \u001b[38;5;241m=\u001b[39m numdef(nums,n \u001b[38;5;241m-\u001b[39m \u001b[38;5;241m2\u001b[39m, length)\n",
      "\u001b[0;31mRecursionError\u001b[0m: maximum recursion depth exceeded in comparison"
     ]
    }
   ],
   "source": [
    "# 2.Ans\n",
    "def strobogrammatic_num(nums,n):\n",
    "       \n",
    "    result = numdef(nums,n, n)\n",
    "    return result\n",
    "def numdef(nums,n, length):\n",
    "    result = []\n",
    "\n",
    "       \n",
    "    if n == 0: result.append(\"\")\n",
    "    if n == 1: result.append(\"1\", \"0\", \"8\")\n",
    "       \n",
    "    middles = numdef(nums,n - 2, length)\n",
    "       \n",
    "    for middle in middles:\n",
    "        if n != length:           \n",
    "            result.append(\"0\" + middle + \"0\")\n",
    "   \n",
    "        result.append(\"8\" + middle + \"8\")\n",
    "        result.append(\"1\" + middle + \"1\")\n",
    "        result.append(\"9\" + middle + \"6\")\n",
    "        result.append(\"6\" + middle + \"9\")\n",
    "        if result.count(nums)!=0:\n",
    "            return True\n",
    "        else:\n",
    "            return False\n",
    "print(strobogrammatic_num(88,2))\n",
    "        "
   ]
  },
  {
   "cell_type": "code",
   "execution_count": 13,
   "id": "d32d40b5-3718-4a4f-a226-358773156b47",
   "metadata": {},
   "outputs": [
    {
     "data": {
      "text/plain": [
       "'57'"
      ]
     },
     "execution_count": 13,
     "metadata": {},
     "output_type": "execute_result"
    }
   ],
   "source": [
    "# 3.Ans\n",
    "def addStrings(self, num1: str, num2: str) -> str:\n",
    "    ans = []\n",
    "    carry = 0\n",
    "    i = len(num1) - 1\n",
    "    j = len(num2) - 1\n",
    "\n",
    "    while i >= 0 or j >= 0 or carry:\n",
    "      if i >= 0:\n",
    "        carry += int(num1[i])\n",
    "      if j >= 0:\n",
    "        carry += int(num2[j])\n",
    "      ans.append(str(carry % 10))\n",
    "      carry //= 10\n",
    "      i -= 1\n",
    "      j -= 1\n",
    "\n",
    "    return ''.join(ans[::-1])\n",
    "addStrings(\"\",\"23\",\"34\")\n"
   ]
  },
  {
   "cell_type": "code",
   "execution_count": 14,
   "id": "5f909ecc-b9b5-4691-9440-c48cf45e2f67",
   "metadata": {},
   "outputs": [
    {
     "name": "stdout",
     "output_type": "stream",
     "text": [
      "s'teL ekat edoCteeL tsetnoc \n"
     ]
    }
   ],
   "source": [
    "# 4.Ans\n",
    "s = \"Let's take LeetCode contest\"\n",
    "list1=list(str.split(s,\" \"))\n",
    "list_new=[]\n",
    "s=\"\"\n",
    "for i in list1:\n",
    "    s+=i[::-1]+\" \"\n",
    "\n",
    "print(s)"
   ]
  },
  {
   "cell_type": "code",
   "execution_count": null,
   "id": "30906990-a81b-4a20-90ac-67f3673eefd9",
   "metadata": {},
   "outputs": [],
   "source": []
  },
  {
   "cell_type": "code",
   "execution_count": null,
   "id": "6c95b9da-cda1-46f5-b8a1-c92a0dce2eaa",
   "metadata": {},
   "outputs": [],
   "source": []
  },
  {
   "cell_type": "code",
   "execution_count": 22,
   "id": "a1c3b658-c878-44e8-973a-f1c6008cf247",
   "metadata": {},
   "outputs": [
    {
     "name": "stdout",
     "output_type": "stream",
     "text": [
      "cbadefg\n"
     ]
    }
   ],
   "source": [
    "# 5.Ans\n",
    "def reverseStr(self, s, k):\n",
    "      l = list(s)\n",
    "      i = k-1\n",
    "      while i < len(l)+k:\n",
    "         a = l[:i-k+1]\n",
    "         b = l[i-k+1:i+1]\n",
    "         c = l[i+1:]\n",
    "         l = a + b[::-1] + c\n",
    "         i += 2*k\n",
    "      return ''.join(l)\n",
    "\n",
    "# ob = Solution()\n",
    "print(reverseStr(\" \",\"abcdefg\", 3))"
   ]
  },
  {
   "cell_type": "code",
   "execution_count": 23,
   "id": "47fdcd99-af89-48d1-a774-4168e395e949",
   "metadata": {},
   "outputs": [
    {
     "data": {
      "text/plain": [
       "True"
      ]
     },
     "execution_count": 23,
     "metadata": {},
     "output_type": "execute_result"
    }
   ],
   "source": [
    "# 6.Ans\n",
    "def rotateString(self, s,  goal) :\n",
    "    return (len(s) == len(goal) and  goal in (s + s) )\n",
    "\n",
    "rotateString(\"\",\"abcde\",\"cdeab\")\n"
   ]
  },
  {
   "cell_type": "code",
   "execution_count": 27,
   "id": "9f59c2b2-9e92-45ec-9d6e-95ee5ddff533",
   "metadata": {},
   "outputs": [
    {
     "data": {
      "text/plain": [
       "True"
      ]
     },
     "execution_count": 27,
     "metadata": {},
     "output_type": "execute_result"
    }
   ],
   "source": [
    "# 7.Ans\n",
    "def backspaceCompare(self, s: str, t: str) -> bool:\n",
    "        s_backspaced = []\n",
    "        t_backspaced = []\n",
    "        \n",
    "        for i in range(len(s)):\n",
    "            if s[i] == '#':\n",
    "                if s_backspaced:\n",
    "                    s_backspaced.pop()\n",
    "            else:\n",
    "                s_backspaced.append(s[i])\n",
    "            \n",
    "        for i in range(len(t)):\n",
    "            if t[i] == '#':\n",
    "                if t_backspaced:\n",
    "                    t_backspaced.pop()\n",
    "            else:\n",
    "                t_backspaced.append(t[i])\n",
    "        return s_backspaced == t_backspaced\n",
    "\n",
    "backspaceCompare(\"\",\"ab#c\",\"ad#c\")\n"
   ]
  },
  {
   "cell_type": "code",
   "execution_count": 2,
   "id": "68ce41f0-76cc-440d-a7f0-06911a610b75",
   "metadata": {},
   "outputs": [
    {
     "name": "stdout",
     "output_type": "stream",
     "text": [
      "A Straight Line\n"
     ]
    }
   ],
   "source": [
    "# 8.Ans\n",
    "list3=[[1,2],[2,3],[3,4],[4,5],[5,6],[6,7]]\n",
    "count=1\n",
    "for i in range(0,len(list3)-2):\n",
    "     ratio=(list3[i+1][0]-list3[i][0])/(list3[i+1][1]-list3[i][1])\n",
    "     if ratio!=(list3[i+2][0]-list3[i+1][0])/(list3[i+2][1]-list3[i+1][1]):\n",
    "          print(\"Not a Straight Line\")\n",
    "          count=0\n",
    "\n",
    "          break\n",
    "if count==1:\n",
    " print(\"A Straight Line\")"
   ]
  },
  {
   "cell_type": "code",
   "execution_count": null,
   "id": "342e34e4-bcc4-4c3f-b467-5a1a4c8d9be5",
   "metadata": {},
   "outputs": [],
   "source": []
  }
 ],
 "metadata": {
  "kernelspec": {
   "display_name": "Python 3 (ipykernel)",
   "language": "python",
   "name": "python3"
  },
  "language_info": {
   "codemirror_mode": {
    "name": "ipython",
    "version": 3
   },
   "file_extension": ".py",
   "mimetype": "text/x-python",
   "name": "python",
   "nbconvert_exporter": "python",
   "pygments_lexer": "ipython3",
   "version": "3.10.8"
  }
 },
 "nbformat": 4,
 "nbformat_minor": 5
}
